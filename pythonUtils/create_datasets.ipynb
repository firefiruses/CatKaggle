{
 "cells": [
  {
   "cell_type": "code",
   "execution_count": null,
   "metadata": {},
   "outputs": [],
   "source": [
    "import torch\n",
    "import random\n",
    "import torch.nn as nn\n",
    "import numpy as np\n",
    "import matplotlib.pyplot as plt\n",
    "from IPython import display\n",
    "from sklearn.model_selection import train_test_split"
   ]
  },
  {
   "cell_type": "code",
   "execution_count": null,
   "metadata": {},
   "outputs": [],
   "source": [
    "size1 = 128\n",
    "size2 = 128\n",
    "train_size = 0.3"
   ]
  },
  {
   "cell_type": "code",
   "execution_count": null,
   "metadata": {},
   "outputs": [],
   "source": [
    "random_seed = 42\n",
    "random.seed(random_seed)\n",
    "np.random.seed(random_seed)\n",
    "torch.random.seed = random_seed"
   ]
  },
  {
   "cell_type": "code",
   "execution_count": null,
   "metadata": {},
   "outputs": [],
   "source": [
    "import torch \n",
    "import pandas as pd\n",
    "from PIL import Image \n",
    "from os import listdir\n",
    "from os.path import isfile, join\n",
    "import torchvision.transforms as transforms \n",
    "import pandas as pd\n",
    "import math\n",
    "\n",
    "train_csv = pd.read_csv(\"train_labels.csv\")\n",
    "\n",
    "path = 'images/images/train/'\n",
    "\n",
    "train_features = []\n",
    "train_targets = []\n",
    "\n",
    "transform = transforms.Compose([ \n",
    "    transforms.PILToTensor(),\n",
    "    transforms.Resize((size1, size2)) \n",
    "]) \n",
    "\n",
    "for file in listdir(path):\n",
    "    filename = join(path, file)\n",
    "    if isfile(filename):\n",
    "        image = Image.open(filename)\n",
    "        width, height = image.size\n",
    "        img_tensor = transform(image) \n",
    "        train_features.append(img_tensor)\n",
    "        train_targets.append(train_csv.loc[train_csv['file_name'] == file].drop('file_name', axis = 1).values[0])\n",
    "        for i in range(0, len(train_targets[-1]),2):\n",
    "            train_targets[-1][i] = train_targets[-1][i]*(size1/width)\n",
    "            train_targets[-1][i+1] = train_targets[-1][i+1]*(size2/height)"
   ]
  },
  {
   "cell_type": "code",
   "execution_count": null,
   "metadata": {},
   "outputs": [],
   "source": [
    "dataset = torch.utils.data.TensorDataset(torch.stack(train_features).type('torch.FloatTensor'), torch.FloatTensor(train_targets))"
   ]
  },
  {
   "cell_type": "code",
   "execution_count": null,
   "metadata": {},
   "outputs": [],
   "source": [
    "torch.save(dataset, 'datasets/train.pt')"
   ]
  }
 ],
 "metadata": {
  "language_info": {
   "name": "python"
  }
 },
 "nbformat": 4,
 "nbformat_minor": 2
}
