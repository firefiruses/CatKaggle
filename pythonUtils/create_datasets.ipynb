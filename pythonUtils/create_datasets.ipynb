{
 "cells": [
  {
   "cell_type": "code",
   "execution_count": 42,
   "metadata": {},
   "outputs": [],
   "source": [
    "import torch\n",
    "import random\n",
    "import torch.nn as nn\n",
    "import numpy as np\n",
    "import matplotlib.pyplot as plt\n",
    "from IPython import display\n",
    "from sklearn.model_selection import train_test_split\n",
    "import config\n",
    "import torch \n",
    "import pandas as pd\n",
    "from PIL import Image \n",
    "from os import listdir\n",
    "from os.path import isfile, join\n",
    "import torchvision.transforms as transforms \n",
    "import pandas as pd\n",
    "import math"
   ]
  },
  {
   "cell_type": "code",
   "execution_count": 43,
   "metadata": {},
   "outputs": [],
   "source": [
    "random_seed = 42\n",
    "random.seed(random_seed)\n",
    "np.random.seed(random_seed)\n",
    "torch.random.seed = random_seed"
   ]
  },
  {
   "cell_type": "code",
   "execution_count": 44,
   "metadata": {},
   "outputs": [],
   "source": [
    "train_csv = pd.read_csv(\"../train_labels.csv\")\n",
    "\n",
    "path = '../images/images/train/'\n",
    "\n",
    "train_features = []\n",
    "train_targets = []\n",
    "\n",
    "transform = transforms.Compose([ \n",
    "    transforms.Resize((config.size, config.size)),\n",
    "    transforms.PILToTensor(),\n",
    "]) \n",
    "\n",
    "if config.grayscale:\n",
    "    transform = transforms.Compose([transforms.Grayscale(), transform])\n",
    "\n",
    "for file in listdir(path):\n",
    "    filename = join(path, file)\n",
    "    if isfile(filename):\n",
    "        image = Image.open(filename)\n",
    "        width, height = image.size\n",
    "        img_tensor = transform(image).type(torch.FloatTensor) \n",
    "        train_features.append(img_tensor)\n",
    "        train_targets.append(train_csv.loc[train_csv['file_name'] == file].drop('file_name', axis = 1).values[0])\n",
    "        for i in range(0, len(train_targets[-1]),2):\n",
    "            train_targets[-1][i] = train_targets[-1][i]*(size1/width)\n",
    "            train_targets[-1][i+1] = train_targets[-1][i+1]*(size2/height)"
   ]
  },
  {
   "cell_type": "code",
   "execution_count": 45,
   "metadata": {},
   "outputs": [],
   "source": [
    "# from torch.utils.data import DataLoader\n",
    "# image_data_loader = DataLoader(\n",
    "#     train_features,\n",
    "#     # batch size is whole dataset\n",
    "#     batch_size=len(train_features),\n",
    "#     shuffle=False,\n",
    "#     num_workers=0)\n",
    "# def mean_std(loader):\n",
    "#   imgs = next(iter(loader))\n",
    "#   # shape of images = [b,c,w,h]\n",
    "#   mean, std = imgs.mean([0,2,3]), imgs.std([0,2,3])\n",
    "#   return mean, std\n",
    "# mean, std = mean_std(image_data_loader)\n",
    "# print(\"mean and std: \\n\", mean, std)"
   ]
  },
  {
   "cell_type": "code",
   "execution_count": 46,
   "metadata": {},
   "outputs": [],
   "source": [
    "X_train, X_test, Y_train, Y_test = train_test_split(train_features, train_targets, test_size= config.train_split_size,  random_state= random_seed) \n",
    "\n",
    "train_dataset = torch.utils.data.TensorDataset(torch.stack(X_train).type('torch.FloatTensor'), torch.FloatTensor(Y_train))\n",
    "test_dataset = torch.utils.data.TensorDataset(torch.stack(X_test).type('torch.FloatTensor'), torch.FloatTensor(Y_test))"
   ]
  },
  {
   "cell_type": "code",
   "execution_count": 47,
   "metadata": {},
   "outputs": [],
   "source": [
    "s = config.get_s()"
   ]
  },
  {
   "cell_type": "code",
   "execution_count": 48,
   "metadata": {},
   "outputs": [],
   "source": [
    "torch.save(train_dataset, f'../datasets/train{s}.pt')\n",
    "torch.save(test_dataset, f'../datasets/test{s}.pt')"
   ]
  },
  {
   "cell_type": "code",
   "execution_count": 49,
   "metadata": {},
   "outputs": [],
   "source": [
    "path = '../images/images/test/'\n",
    "\n",
    "predict_features = []\n",
    "\n",
    "sizez = []\n",
    "for file in listdir(path):\n",
    "    filename = join(path, file)\n",
    "    if isfile(filename):\n",
    "        image = Image.open(filename)\n",
    "        width, height = image.size\n",
    "        sizez.append([width, height,file])\n",
    "        img_tensor = transform(image) \n",
    "        predict_features.append(img_tensor)"
   ]
  },
  {
   "cell_type": "code",
   "execution_count": 50,
   "metadata": {},
   "outputs": [],
   "source": [
    "predict_dataset = torch.utils.data.TensorDataset(torch.stack(predict_features).type('torch.FloatTensor'))\n",
    "sizez = pd.DataFrame(sizez)"
   ]
  },
  {
   "cell_type": "code",
   "execution_count": 51,
   "metadata": {},
   "outputs": [],
   "source": [
    "torch.save(predict_dataset, f'../datasets/predict{s}.pt')\n",
    "sizez.to_csv('../datasets/predictSizez&names.csv')"
   ]
  }
 ],
 "metadata": {
  "kernelspec": {
   "display_name": "Python 3",
   "language": "python",
   "name": "python3"
  },
  "language_info": {
   "codemirror_mode": {
    "name": "ipython",
    "version": 3
   },
   "file_extension": ".py",
   "mimetype": "text/x-python",
   "name": "python",
   "nbconvert_exporter": "python",
   "pygments_lexer": "ipython3",
   "version": "3.11.0"
  }
 },
 "nbformat": 4,
 "nbformat_minor": 2
}
