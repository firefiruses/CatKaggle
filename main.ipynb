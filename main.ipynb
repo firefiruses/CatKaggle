{
 "cells": [
  {
   "cell_type": "code",
   "execution_count": 10,
   "metadata": {},
   "outputs": [],
   "source": [
    "import torch\n",
    "import random\n",
    "import torch.nn as nn\n",
    "import numpy as np\n",
    "import matplotlib.pyplot as plt\n",
    "from IPython import display\n",
    "from sklearn.model_selection import train_test_split"
   ]
  },
  {
   "cell_type": "code",
   "execution_count": 11,
   "metadata": {},
   "outputs": [],
   "source": [
    "class CatNet(nn.Module):\n",
    "    def __init__(self, inputsize, outputsize):\n",
    "        super().__init__()\n",
    "        self.inputsize = inputsize\n",
    "        self.outputsize = outputsize\n",
    "        self.model = torch.nn.Sequential(\n",
    "            torch.nn.Conv2d(3, 32, 3, padding=1),\n",
    "            torch.nn.ReLU(),\n",
    "            torch.nn.Flatten(),\n",
    "            torch.nn.Linear(16*16*32, outputsize)\n",
    "        ) \n",
    "    def forward(self, x):\n",
    "        return self.model(x)\n"
   ]
  },
  {
   "cell_type": "code",
   "execution_count": 12,
   "metadata": {},
   "outputs": [],
   "source": [
    "train_dataset = torch.load(\"datasets/train.pt\")\n",
    "train_dataloader = torch.utils.data.DataLoader(train_dataset, batch_size=1, shuffle=False)\n",
    "test_dataset = torch.load(\"datasets/test.pt\")\n",
    "test_dataloader = torch.utils.data.DataLoader(test_dataset, batch_size=1, shuffle=False)"
   ]
  },
  {
   "cell_type": "code",
   "execution_count": 13,
   "metadata": {},
   "outputs": [
    {
     "name": "stdout",
     "output_type": "stream",
     "text": [
      "1/2 current loss: 2.2885875701904297\n",
      "2/2 current loss: 2.271191120147705\n"
     ]
    }
   ],
   "source": [
    "num_epochs = 2\n",
    "learning_rate = 0.01\n",
    "weight_decay = 0.01\n",
    "model = CatNet(16, 18)\n",
    "criterion = torch.nn.L1Loss()\n",
    "optimizer = torch.optim.Adam(model.parameters(), lr=learning_rate, weight_decay=weight_decay) \n",
    "loss_history = []\n",
    "\n",
    "for i in range(num_epochs):\n",
    "    for x_batch, y_batch in train_dataloader:\n",
    "        predictions = model.forward(x_batch)\n",
    "\n",
    "        loss = criterion(predictions, y_batch)\n",
    "\n",
    "        # Backward\n",
    "        loss.backward()\n",
    "\n",
    "        # Update weights\n",
    "        optimizer.step()\n",
    "        optimizer.zero_grad()\n",
    "\n",
    "        loss_history.append(loss.item())\n",
    "    print(f'{i+1}/{num_epochs} current loss: {loss}')   "
   ]
  },
  {
   "cell_type": "code",
   "execution_count": 24,
   "metadata": {},
   "outputs": [],
   "source": [
    "x, y = train_dataset[0]"
   ]
  },
  {
   "cell_type": "code",
   "execution_count": 29,
   "metadata": {},
   "outputs": [
    {
     "data": {
      "image/png": "[encoded data removed]",
      "text/plain": [
       "<Figure size 640x480 with 1 Axes>"
      ]
     },
     "metadata": {},
     "output_type": "display_data"
    }
   ],
   "source": [
    "x, y = train_dataset[0]\n",
    "draw_img = x.type('torch.IntTensor')\n",
    "draw_points = model.forward(torch.stack([x]))[0].detach().numpy()\n",
    "plt.imshow(draw_img.permute(1,2,0))\n",
    "for i in range(0, len(draw_points),2):\n",
    "            x, y = draw_points[i], draw_points[i+1] \n",
    "            plt.plot(x,y, 'ro')\n",
    "plt.show()"
   ]
  }
 ],
 "metadata": {
  "kernelspec": {
   "display_name": "Python 3",
   "language": "python",
   "name": "python3"
  },
  "language_info": {
   "codemirror_mode": {
    "name": "ipython",
    "version": 3
   },
   "file_extension": ".py",
   "mimetype": "text/x-python",
   "name": "python",
   "nbconvert_exporter": "python",
   "pygments_lexer": "ipython3",
   "version": "3.11.0"
  }
 },
 "nbformat": 4,
 "nbformat_minor": 2
}
